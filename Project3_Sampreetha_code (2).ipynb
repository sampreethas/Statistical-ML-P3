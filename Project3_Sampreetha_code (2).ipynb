{
  "nbformat": 4,
  "nbformat_minor": 0,
  "metadata": {
    "colab": {
      "name": "Untitled2 (3).ipynb",
      "provenance": [],
      "collapsed_sections": []
    },
    "kernelspec": {
      "name": "python3",
      "display_name": "Python 3"
    },
    "language_info": {
      "name": "python"
    },
    "accelerator": "GPU",
    "gpuClass": "standard"
  },
  "cells": [
    {
      "cell_type": "code",
      "execution_count": 43,
      "metadata": {
        "id": "KZo_hJs7Pd4_"
      },
      "outputs": [],
      "source": [
        "#to import the necessary libraries\n",
        "\n",
        "import numpy as np  \n",
        "import matplotlib.pyplot as plt  #to plot the graphs\n",
        "import scipy.io as sc  \n",
        "from tensorflow.keras.utils import to_categorical\n",
        "from tensorflow import keras\n",
        "import seaborn as sns\n"
      ]
    },
    {
      "cell_type": "code",
      "source": [
        "#Step 1 - Loading the data input using sc\n",
        "#Input is 32X32 training and testing SVHN datasets\n",
        "#Training samples - 73257, testing samples - 26032\n",
        "'''trX - training data,\n",
        "   trY - training label,\n",
        "   tsX - testing data,\n",
        "   tsY - testing label'''\n",
        "\n",
        "trX = sc.loadmat('train_32x32.mat')['X']\n",
        "trY = sc.loadmat('train_32x32.mat')['y']\n",
        "tsX = sc.loadmat('test_32x32.mat')['X']\n",
        "tsY = sc.loadmat('test_32x32.mat')['y']\n",
        "\n",
        "#Saving a copy of input data loaded\n",
        "train_data = trX\n",
        "train_label = trY\n",
        "test_data = tsX\n",
        "test_label = tsY\n",
        "\n",
        "#displaying the minimum and maximum value of training data\n",
        "np.min(train_data)\n",
        "np.max(train_data)\n"
      ],
      "metadata": {
        "colab": {
          "base_uri": "https://localhost:8080/"
        },
        "id": "HoB2fVbwP1R-",
        "outputId": "dda9a965-b28a-41f7-8876-11b8b539565d"
      },
      "execution_count": 44,
      "outputs": [
        {
          "output_type": "execute_result",
          "data": {
            "text/plain": [
              "255"
            ]
          },
          "metadata": {},
          "execution_count": 44
        }
      ]
    },
    {
      "cell_type": "code",
      "source": [
        "#displaying a random data of training sample and it's corresponding label - to view an example of how input data is\n",
        "'''Digit 1 - label 1\n",
        "   Digit 9 - label 9\n",
        "   Digit 0 - label 10'''\n",
        "\n",
        "plt.xlabel(\"X axis\")\n",
        "plt.ylabel(\"Y axis\")\n",
        "plt.imshow(train_data[20000])\n",
        "plt.show()\n",
        "print('Label of above data:', train_label[20000])"
      ],
      "metadata": {
        "id": "2uY0oMVtUt5h",
        "colab": {
          "base_uri": "https://localhost:8080/",
          "height": 298
        },
        "outputId": "c1656845-0aea-416b-963b-e34e3dc5e998"
      },
      "execution_count": 45,
      "outputs": [
        {
          "output_type": "display_data",
          "data": {
            "text/plain": [
              "<Figure size 432x288 with 1 Axes>"
            ],
            "image/png": "[encoded data removed]"
          },
          "metadata": {
            "needs_background": "light"
          }
        },
        {
          "output_type": "stream",
          "name": "stdout",
          "text": [
            "Label of above data: [3]\n"
          ]
        }
      ]
    },
    {
      "cell_type": "code",
      "source": [
        "#Step 2a: Normalizing the training and testing data to the range 0-1\n",
        "'''Normalizing is done to speed up the convergence.\n",
        "   it makes the cost function much easier to train\n",
        "   minimum value is normalized to 0\n",
        "   maximum value is normalized to 1\n",
        "   norm_train - normalized value of training data\n",
        "   norm_test - normalized value of testing data'''\n",
        "\n",
        "norm_train = (train_data - np.min(train_data)) / (np.max(train_data) - np.min(train_data))\n",
        "norm_test = (test_data - np.min(test_data)) / (np.max(test_data) - np.min(test_data))\n",
        "#norm_train\n",
        "np.min(norm_test)\n",
        "\n"
      ],
      "metadata": {
        "id": "xCPhlZcIfK2n",
        "colab": {
          "base_uri": "https://localhost:8080/"
        },
        "outputId": "98617a4c-6f0e-4cf8-ec1a-62dd2f7b31d1"
      },
      "execution_count": 46,
      "outputs": [
        {
          "output_type": "execute_result",
          "data": {
            "text/plain": [
              "0.0"
            ]
          },
          "metadata": {},
          "execution_count": 46
        }
      ]
    },
    {
      "cell_type": "markdown",
      "source": [
        ""
      ],
      "metadata": {
        "id": "J7pxWMtVsVwu"
      }
    },
    {
      "cell_type": "code",
      "source": [
        "#Step 2b: One hot vector encoding - mapping of categorical values to integers\n",
        "'''Then, each integer value is represented as a binary vector that is all zero values except \n",
        "   the index of the integer, which is marked with a 1\n",
        "   using the inbuilt function to_categorical from keras, to do the one hot vector encoding of training and testing labels\n",
        "   onehot_train - hot coded data of training set\n",
        "   onehot_test - hot coded data of testing set'''\n",
        "\n",
        "onehot_train = to_categorical(train_label)\n",
        "onehot_test = to_categorical(test_label)\n",
        "print (\"One hot vector encoding results of training data\")\n",
        "print (onehot_train)"
      ],
      "metadata": {
        "colab": {
          "base_uri": "https://localhost:8080/"
        },
        "id": "sIWSe_s5l08E",
        "outputId": "902dde24-a7c5-474b-f507-3fa606d336e6"
      },
      "execution_count": 47,
      "outputs": [
        {
          "output_type": "stream",
          "name": "stdout",
          "text": [
            "One hot vector encoding results of training data\n",
            "[[0. 1. 0. ... 0. 0. 0.]\n",
            " [0. 0. 0. ... 0. 0. 1.]\n",
            " [0. 0. 1. ... 0. 0. 0.]\n",
            " ...\n",
            " [0. 1. 0. ... 0. 0. 0.]\n",
            " [0. 0. 0. ... 0. 0. 0.]\n",
            " [0. 0. 0. ... 0. 0. 1.]]\n"
          ]
        }
      ]
    },
    {
      "cell_type": "code",
      "source": [
        "#Step 3: Implementing the architecture mentioned in the problem statement\n",
        "'''Problem Statement: 1. 2d convolution with 5X5 kernel, 64 output maps and ReLU activation function\n",
        "   2. Maxpooling with kernel 2X2 and stride 2X2\n",
        "   3. 2d convolution with 5X5 kernel, 64 output maps and ReLU activation function\n",
        "   4. Maxpooling with kernel 2X2 and stride 2X2\n",
        "   5. 2d convolution with 5X5 kernel, 128 output maps and ReLU activation function\n",
        "   6. regular network with 3072 units and ReLU activation unit\n",
        "   7. regular network with 2048 units and ReLU activation unit\n",
        "   8. final network with 10 units and softmax activation unit\n",
        "   strides: the number of pixels by which a kernel is moved\n",
        "   kernel: filter used to extract features from the image\n",
        "   Convolution: The input is multiplied element-by-element with the filter throughout the process\n",
        "   For all the convolutional layers, using padding='same' \n",
        "   Drop-out: added after each maxpooling to prevent the neurons from learning the same\n",
        "   Maxpooling: calculates the maximum value in each patch, extracts the sharpest features of an image\n",
        "   BatchNormalization: it is done to eliminate internal covariate shift issue\n",
        "   Flatten: \n",
        "   ReLU activation function - linear function that will give output=input, if its positive else output=0\n",
        "   Softmax activation function - maps a vector of numbers into a vector of probabilities  '''\n",
        "  \n",
        "\n",
        "\n",
        "#Keras manages a global state, therefore need to clear all the session before starting\n",
        "keras.backend.clear_session()\n",
        "\n",
        "#Defining keras sequential model - the sequential API allows to create models layer-by-layer\n",
        "seq_model = keras.Sequential([\n",
        "    keras.layers.Conv2D(64, (5, 5), padding='same', \n",
        "                           activation='relu',\n",
        "                           input_shape=(32, 32, 3)),\n",
        "    keras.layers.BatchNormalization(),\n",
        "    keras.layers.MaxPooling2D((2, 2), (2,2)),\n",
        "    \n",
        "    keras.layers.Conv2D(64, (5, 5), padding='same', \n",
        "                           activation='relu'),\n",
        "    keras.layers.BatchNormalization(),\n",
        "    keras.layers.MaxPooling2D((2, 2), (2,2)),\n",
        "    \n",
        "    keras.layers.Conv2D(128, (5, 5), padding='same', \n",
        "                           activation='relu'),\n",
        "    keras.layers.Flatten(),\n",
        "    keras.layers.Dense(3072, activation='relu'),\n",
        "    keras.layers.Dropout(0.2),\n",
        "    keras.layers.Dense(2048, activation='relu'),\n",
        "    keras.layers.Dropout(0.2),\n",
        "    keras.layers.Dense(10, activation='softmax'),\n",
        "])\n",
        "\n",
        "\n",
        "\n",
        "#Step 4: Model training using SGD optimizer\n",
        "#using the SGD(stochastic gradient descent) optimizer as per problem statement\n",
        "'''SGD calculates the gradient of the cost function of a single example at each iteration\n",
        "   learning rate - rate at which the model learns. Small learning rate - more optimal solution\n",
        "   Optimization -process which optimize the input weights by comparing the prediction and the loss function\n",
        "   Metrics - used to evaluate the performance the model\n",
        "   Loss function - used to find error or deviation in the learning process'''\n",
        "\n",
        "sgd_optimizer = keras.optimizers.SGD(learning_rate=0.01)\n",
        "seq_model.compile(optimizer=sgd_optimizer,\n",
        "                  loss='categorical_crossentropy',\n",
        "                  metrics='accuracy')\n",
        "    \n",
        "#to view complete architecture of the model\n",
        "seq_model.summary()"
      ],
      "metadata": {
        "id": "tA1Wt0XhAsDb",
        "colab": {
          "base_uri": "https://localhost:8080/"
        },
        "outputId": "7095c1be-94c1-43bb-a601-31713bed8e20"
      },
      "execution_count": 49,
      "outputs": [
        {
          "output_type": "stream",
          "name": "stdout",
          "text": [
            "Model: \"sequential\"\n",
            "_________________________________________________________________\n",
            " Layer (type)                Output Shape              Param #   \n",
            "=================================================================\n",
            " conv2d (Conv2D)             (None, 32, 32, 64)        4864      \n",
            "                                                                 \n",
            " batch_normalization (BatchN  (None, 32, 32, 64)       256       \n",
            " ormalization)                                                   \n",
            "                                                                 \n",
            " max_pooling2d (MaxPooling2D  (None, 16, 16, 64)       0         \n",
            " )                                                               \n",
            "                                                                 \n",
            " conv2d_1 (Conv2D)           (None, 16, 16, 64)        102464    \n",
            "                                                                 \n",
            " batch_normalization_1 (Batc  (None, 16, 16, 64)       256       \n",
            " hNormalization)                                                 \n",
            "                                                                 \n",
            " max_pooling2d_1 (MaxPooling  (None, 8, 8, 64)         0         \n",
            " 2D)                                                             \n",
            "                                                                 \n",
            " conv2d_2 (Conv2D)           (None, 8, 8, 128)         204928    \n",
            "                                                                 \n",
            " flatten (Flatten)           (None, 8192)              0         \n",
            "                                                                 \n",
            " dense (Dense)               (None, 3072)              25168896  \n",
            "                                                                 \n",
            " dropout (Dropout)           (None, 3072)              0         \n",
            "                                                                 \n",
            " dense_1 (Dense)             (None, 2048)              6293504   \n",
            "                                                                 \n",
            " dropout_1 (Dropout)         (None, 2048)              0         \n",
            "                                                                 \n",
            " dense_2 (Dense)             (None, 10)                20490     \n",
            "                                                                 \n",
            "=================================================================\n",
            "Total params: 31,795,658\n",
            "Trainable params: 31,795,402\n",
            "Non-trainable params: 256\n",
            "_________________________________________________________________\n"
          ]
        }
      ]
    },
    {
      "cell_type": "code",
      "source": [
        "#training the model with normalized training samples and hot coded training labels\n",
        "#20% of the trained samples are taken for validation\n",
        "#epochs define the number of samples\n",
        "\n",
        "trained_data = seq_model.fit(norm_train, onehot_train, batch_size=128, epochs=20, validation_split=0.2)"
      ],
      "metadata": {
        "colab": {
          "base_uri": "https://localhost:8080/"
        },
        "id": "BHmLqZ7TCUsc",
        "outputId": "274ff741-d95a-4c91-a986-5878e4fa963e"
      },
      "execution_count": 50,
      "outputs": [
        {
          "output_type": "stream",
          "name": "stdout",
          "text": [
            "Epoch 1/20\n",
            "458/458 [==============================] - 12s 25ms/step - loss: 1.0652 - accuracy: 0.6557 - val_loss: 0.7450 - val_accuracy: 0.8112\n",
            "Epoch 2/20\n",
            "458/458 [==============================] - 10s 23ms/step - loss: 0.4995 - accuracy: 0.8511 - val_loss: 0.5014 - val_accuracy: 0.8514\n",
            "Epoch 3/20\n",
            "458/458 [==============================] - 10s 21ms/step - loss: 0.4051 - accuracy: 0.8808 - val_loss: 0.4156 - val_accuracy: 0.8797\n",
            "Epoch 4/20\n",
            "458/458 [==============================] - 10s 22ms/step - loss: 0.3491 - accuracy: 0.8975 - val_loss: 0.4050 - val_accuracy: 0.8810\n",
            "Epoch 5/20\n",
            "458/458 [==============================] - 10s 23ms/step - loss: 0.3090 - accuracy: 0.9088 - val_loss: 0.3805 - val_accuracy: 0.8896\n",
            "Epoch 6/20\n",
            "458/458 [==============================] - 10s 22ms/step - loss: 0.2782 - accuracy: 0.9183 - val_loss: 0.3308 - val_accuracy: 0.9034\n",
            "Epoch 7/20\n",
            "458/458 [==============================] - 10s 22ms/step - loss: 0.2493 - accuracy: 0.9281 - val_loss: 0.3215 - val_accuracy: 0.9078\n",
            "Epoch 8/20\n",
            "458/458 [==============================] - 10s 22ms/step - loss: 0.2271 - accuracy: 0.9344 - val_loss: 0.3201 - val_accuracy: 0.9064\n",
            "Epoch 9/20\n",
            "458/458 [==============================] - 11s 23ms/step - loss: 0.2061 - accuracy: 0.9404 - val_loss: 0.3162 - val_accuracy: 0.9086\n",
            "Epoch 10/20\n",
            "458/458 [==============================] - 11s 23ms/step - loss: 0.1869 - accuracy: 0.9465 - val_loss: 0.3233 - val_accuracy: 0.9024\n",
            "Epoch 11/20\n",
            "458/458 [==============================] - 10s 22ms/step - loss: 0.1677 - accuracy: 0.9524 - val_loss: 0.3169 - val_accuracy: 0.9102\n",
            "Epoch 12/20\n",
            "458/458 [==============================] - 11s 23ms/step - loss: 0.1524 - accuracy: 0.9572 - val_loss: 0.3163 - val_accuracy: 0.9081\n",
            "Epoch 13/20\n",
            "458/458 [==============================] - 10s 22ms/step - loss: 0.1370 - accuracy: 0.9617 - val_loss: 0.2994 - val_accuracy: 0.9138\n",
            "Epoch 14/20\n",
            "458/458 [==============================] - 11s 23ms/step - loss: 0.1217 - accuracy: 0.9667 - val_loss: 0.3249 - val_accuracy: 0.9109\n",
            "Epoch 15/20\n",
            "458/458 [==============================] - 10s 22ms/step - loss: 0.1094 - accuracy: 0.9694 - val_loss: 0.3179 - val_accuracy: 0.9094\n",
            "Epoch 16/20\n",
            "458/458 [==============================] - 10s 22ms/step - loss: 0.0964 - accuracy: 0.9731 - val_loss: 0.3060 - val_accuracy: 0.9152\n",
            "Epoch 17/20\n",
            "458/458 [==============================] - 10s 22ms/step - loss: 0.0868 - accuracy: 0.9756 - val_loss: 0.3098 - val_accuracy: 0.9158\n",
            "Epoch 18/20\n",
            "458/458 [==============================] - 11s 23ms/step - loss: 0.0776 - accuracy: 0.9788 - val_loss: 0.3156 - val_accuracy: 0.9139\n",
            "Epoch 19/20\n",
            "458/458 [==============================] - 11s 23ms/step - loss: 0.0689 - accuracy: 0.9812 - val_loss: 0.3188 - val_accuracy: 0.9145\n",
            "Epoch 20/20\n",
            "458/458 [==============================] - 11s 23ms/step - loss: 0.0619 - accuracy: 0.9840 - val_loss: 0.3266 - val_accuracy: 0.9180\n"
          ]
        }
      ]
    },
    {
      "cell_type": "code",
      "source": [
        "#calculating the training and validation accuracy of trained data\n",
        "train_acc = trained_data.history['accuracy']\n",
        "val_acc = trained_data.history['val_accuracy']"
      ],
      "metadata": {
        "id": "jEvQl_7lSPrb"
      },
      "execution_count": 51,
      "outputs": []
    },
    {
      "cell_type": "code",
      "source": [
        ""
      ],
      "metadata": {
        "id": "_lV3GIhm7LFN"
      },
      "execution_count": null,
      "outputs": []
    },
    {
      "cell_type": "code",
      "source": [
        "#Step 5: plotting the training curve as the function of accuracy of trained samples with the epochs\n",
        "sns.lineplot(x = range(1,21), y = train_acc, label = 'Trained accuracy')\n",
        "sns.lineplot(x = range(1,21), y = val_acc, label = 'Validation accuracy')\n",
        "plt.xlabel('Epochs or Number of samples')\n",
        "\n",
        "plt.ylabel('Accuracy of the trained data')\n",
        "plt.legend(loc='lower right')\n",
        "plt.title('Graph of trained samples accuracy vs Epochs')\n",
        "plt.show()"
      ],
      "metadata": {
        "colab": {
          "base_uri": "https://localhost:8080/",
          "height": 295
        },
        "id": "ADzZmS3Ibvqf",
        "outputId": "f7c58c6a-eb63-4f7b-d056-447ec071255d"
      },
      "execution_count": 53,
      "outputs": [
        {
          "output_type": "display_data",
          "data": {
            "text/plain": [
              "<Figure size 432x288 with 1 Axes>"
            ],
            "image/png": "[encoded data removed]"
          },
          "metadata": {
            "needs_background": "light"
          }
        }
      ]
    },
    {
      "cell_type": "code",
      "source": [
        "#Testing the model accuracy on testing samples - evaluation of the model for test samples\n",
        "'''Evaluation of test data: checks whether the model is best fit for the given problem and its corresponding data'''\n",
        "test_loss, test_accuracy = seq_model.evaluate(x=norm_test, y=onehot_test, verbose=0)\n",
        "\n",
        "\n",
        "#Final accuracy in classification of the testing set is calculated\n",
        "print('Test accuracy is: {:0.4f} \\nTest loss is: {:0.4f}'.\n",
        "      format(test_accuracy, test_loss))"
      ],
      "metadata": {
        "colab": {
          "base_uri": "https://localhost:8080/"
        },
        "id": "QbSsEhsplzIn",
        "outputId": "ebba0d43-aed4-4d4d-d65a-785c9ade4290"
      },
      "execution_count": 54,
      "outputs": [
        {
          "output_type": "stream",
          "name": "stdout",
          "text": [
            "Test accuracy is: 0.9062 \n",
            "Test loss is: 0.3757\n"
          ]
        }
      ]
    },
    {
      "cell_type": "code",
      "source": [
        ""
      ],
      "metadata": {
        "id": "PrXBQ5DvodOm"
      },
      "execution_count": 23,
      "outputs": []
    }
  ]
}